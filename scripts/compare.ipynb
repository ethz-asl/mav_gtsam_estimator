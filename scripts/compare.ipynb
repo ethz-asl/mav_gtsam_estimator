{
 "cells": [
  {
   "cell_type": "code",
   "execution_count": 1,
   "metadata": {},
   "outputs": [],
   "source": "import rosbag_pandas\nimport pandas as pd\nimport numpy as np\n\nfile_1 = '/home/rik/data/2020_08_05_gannertshofen/estimator_development/sensors_2020-08-05-13-13-56_estimator_2020-08-30-17-48-25_w_baseline.bag'\ndf_1 = rosbag_pandas.bag_to_dataframe(file_1)"
  },
  {
   "cell_type": "code",
   "execution_count": 19,
   "metadata": {},
   "outputs": [],
   "source": "file_2 = '/home/rik/data/2020_08_05_gannertshofen/estimator_development/sensors_2020-08-05-13-13-56_estimator_2020-08-31-09-22-44_spp.bag'\ndf_2 = rosbag_pandas.bag_to_dataframe(file_2)"
  },
  {
   "cell_type": "code",
   "execution_count": 20,
   "metadata": {},
   "outputs": [],
   "source": "import pandas as pd\ndef getPoseTf(df, topic):\n    df_pose = pd.to_datetime(df[topic + '/header/stamp/secs'], unit='s') + pd.to_timedelta(df[topic + '/header/stamp/nsecs'], unit='ns') \n    df_pose = pd.concat([df_pose, df[topic + '/pose/position/x']], axis=1)\n    df_pose = pd.concat([df_pose, df[topic + '/pose/position/y']], axis=1)\n    df_pose = pd.concat([df_pose, df[topic + '/pose/position/z']], axis=1)\n    df_pose = pd.concat([df_pose, df[topic + '/pose/orientation/x']], axis=1)\n    df_pose = pd.concat([df_pose, df[topic + '/pose/orientation/y']], axis=1)\n    df_pose = pd.concat([df_pose, df[topic + '/pose/orientation/z']], axis=1)\n    df_pose = pd.concat([df_pose, df[topic + '/pose/orientation/w']], axis=1)\n    df_pose.reset_index(inplace=True)\n    df_pose.columns = ['t_arrival', 't', 'x', 'y', 'z', 'q_x', 'q_y', 'q_z', 'q_w']\n    df_pose.dropna(inplace=True)\n    df_pose.reset_index(inplace=True)\n    df_pose.drop('t_arrival', axis=1, inplace=True)\n    df_pose.drop('index', axis=1, inplace=True)\n    \n    from scipy.spatial.transform import Rotation as R\n    ypr = df_pose.apply(lambda row: R.from_quat([row.q_x, row.q_y, row.q_z, row.q_w]).as_euler('ZYX', degrees=True), axis=1)\n    ypr = pd.DataFrame(ypr.values.tolist(), columns=['yaw', 'pitch', 'roll'])\n    df_pose = pd.concat([df_pose, ypr], axis=1)\n    df_pose.set_index('t', inplace=True)\n    return df_pose"
  },
  {
   "cell_type": "code",
   "execution_count": 21,
   "metadata": {},
   "outputs": [],
   "source": "import pandas as pd\ndef getBias(df, topic):\n    df_bias = pd.to_datetime(df[topic + '/header/stamp/secs'], unit='s') + pd.to_timedelta(df[topic + '/header/stamp/nsecs'], unit='ns') \n    df_bias = pd.concat([df_bias, df[topic + '/vector/x']], axis=1)\n    df_bias = pd.concat([df_bias, df[topic + '/vector/y']], axis=1)\n    df_bias = pd.concat([df_bias, df[topic + '/vector/z']], axis=1)\n    df_bias.reset_index(inplace=True)\n    df_bias.columns = ['t_arrival', 't', 'x', 'y', 'z']\n    df_bias.dropna(inplace=True)\n    df_bias.reset_index(inplace=True)\n    df_bias.drop('t_arrival', axis=1, inplace=True)\n    df_bias.drop('index', axis=1, inplace=True)\n    return df_bias"
  },
  {
   "cell_type": "code",
   "execution_count": 22,
   "metadata": {},
   "outputs": [],
   "source": "def getHeading(df, topic):\n    df_heading = pd.to_datetime(df[topic + '/header/stamp/secs'], unit='s') + pd.to_timedelta(df[topic + '/header/stamp/nsecs'], unit='ns')\n    df_heading = pd.concat([df_heading, df[topic + '/position/position/x']], axis=1)\n    df_heading = pd.concat([df_heading, df[topic + '/position/position/y']], axis=1)\n    df_heading.reset_index(inplace=True)\n    df_heading.columns = ['t_arrival', 't', 'base_x', 'base_y']\n    df_heading.dropna(inplace=True)\n    df_heading.set_index('t', inplace=True)\n    df_heading.drop('t_arrival', axis=1, inplace=True)\n    # Convert NED->ENU\n    import numpy as np\n    x = df_heading['base_y'].values\n    y = df_heading['base_x'].values\n\n    from scipy.spatial.transform import Rotation as R\n    r = R.from_rotvec(np.pi/2 * np.array([0, 0, 1]))\n    vectors = np.array([x, y, np.zeros(len(x))]).transpose()\n    heading_vectors = r.apply(vectors)\n\n    heading = np.arctan2(heading_vectors[:, 1], heading_vectors[:, 0]) * 180.0 / np.pi\n\n    df_heading['rtk heading'] = heading\n    \n    return df_heading"
  },
  {
   "cell_type": "code",
   "execution_count": 23,
   "metadata": {},
   "outputs": [],
   "source": "df_pose_1 = getPoseTf(df_1, '/moa/mav_state_estimator/optimization')\ndf_pose_2 = getPoseTf(df_2, '/moa/mav_state_estimator/optimization')\ndf_heading = getHeading(df_1, '/moa/piksi/attitude_receiver_0/ros/baseline_ned')\n\ndf_acc_bias_1 = getBias(df_1, '/moa/mav_state_estimator/acc_bias')\ndf_acc_bias_2 = getBias(df_2, '/moa/mav_state_estimator/acc_bias')\n\ndf_gyro_bias_1 = getBias(df_1, '/moa/mav_state_estimator/gyro_bias')\ndf_gyro_bias_2 = getBias(df_2, '/moa/mav_state_estimator/gyro_bias')"
  },
  {
   "cell_type": "code",
   "execution_count": 14,
   "metadata": {},
   "outputs": [
    {
     "data": {
      "text/plain": "Text(0,0.5,'Angle [deg]')"
     },
     "execution_count": 14,
     "metadata": {},
     "output_type": "execute_result"
    }
   ],
   "source": "import matplotlib.pyplot as plt\nimport matplotlib.dates as mdates\n%matplotlib qt\n\nfontsize=12\nfig, axs = plt.subplots(nrows=1, sharex=True)\n\ndf_pose_1['yaw'].plot(ax=axs)\ndf_pose_2['yaw'].plot(ax=axs)\ndf_heading['rtk heading'].plot(style='-', ax=axs)\naxs.legend(['heading 1', 'heading 2', 'heading rtk'])\naxs.set_xlabel('Timestamp', fontsize=fontsize)\naxs.set_ylabel('Angle [deg]', fontsize=fontsize)"
  },
  {
   "cell_type": "code",
   "execution_count": 1,
   "metadata": {},
   "outputs": [
    {
     "ename": "NameError",
     "evalue": "name 'df_pose_1' is not defined",
     "output_type": "error",
     "traceback": [
      "\u001b[0;31m---------------------------------------------------------------------------\u001b[0m",
      "\u001b[0;31mNameError\u001b[0m                                 Traceback (most recent call last)",
      "\u001b[0;32m<ipython-input-1-713330137df4>\u001b[0m in \u001b[0;36m<module>\u001b[0;34m()\u001b[0m\n\u001b[1;32m      6\u001b[0m \u001b[0mfig\u001b[0m\u001b[0;34m,\u001b[0m \u001b[0maxs\u001b[0m \u001b[0;34m=\u001b[0m \u001b[0mplt\u001b[0m\u001b[0;34m.\u001b[0m\u001b[0msubplots\u001b[0m\u001b[0;34m(\u001b[0m\u001b[0mnrows\u001b[0m\u001b[0;34m=\u001b[0m\u001b[0;36m3\u001b[0m\u001b[0;34m,\u001b[0m \u001b[0msharex\u001b[0m\u001b[0;34m=\u001b[0m\u001b[0mTrue\u001b[0m\u001b[0;34m)\u001b[0m\u001b[0;34m\u001b[0m\u001b[0m\n\u001b[1;32m      7\u001b[0m \u001b[0;34m\u001b[0m\u001b[0m\n\u001b[0;32m----> 8\u001b[0;31m \u001b[0mdf_pose_1\u001b[0m\u001b[0;34m[\u001b[0m\u001b[0;34m'x'\u001b[0m\u001b[0;34m]\u001b[0m\u001b[0;34m.\u001b[0m\u001b[0mplot\u001b[0m\u001b[0;34m(\u001b[0m\u001b[0max\u001b[0m\u001b[0;34m=\u001b[0m\u001b[0maxs\u001b[0m\u001b[0;34m[\u001b[0m\u001b[0;36m0\u001b[0m\u001b[0;34m]\u001b[0m\u001b[0;34m)\u001b[0m\u001b[0;34m\u001b[0m\u001b[0m\n\u001b[0m\u001b[1;32m      9\u001b[0m \u001b[0mdf_pose_2\u001b[0m\u001b[0;34m[\u001b[0m\u001b[0;34m'x'\u001b[0m\u001b[0;34m]\u001b[0m\u001b[0;34m.\u001b[0m\u001b[0mplot\u001b[0m\u001b[0;34m(\u001b[0m\u001b[0max\u001b[0m\u001b[0;34m=\u001b[0m\u001b[0maxs\u001b[0m\u001b[0;34m[\u001b[0m\u001b[0;36m0\u001b[0m\u001b[0;34m]\u001b[0m\u001b[0;34m)\u001b[0m\u001b[0;34m\u001b[0m\u001b[0m\n\u001b[1;32m     10\u001b[0m \u001b[0maxs\u001b[0m\u001b[0;34m[\u001b[0m\u001b[0;36m0\u001b[0m\u001b[0;34m]\u001b[0m\u001b[0;34m.\u001b[0m\u001b[0mset_xlabel\u001b[0m\u001b[0;34m(\u001b[0m\u001b[0;34m'Timestamp'\u001b[0m\u001b[0;34m,\u001b[0m \u001b[0mfontsize\u001b[0m\u001b[0;34m=\u001b[0m\u001b[0mfontsize\u001b[0m\u001b[0;34m)\u001b[0m\u001b[0;34m\u001b[0m\u001b[0m\n",
      "\u001b[0;31mNameError\u001b[0m: name 'df_pose_1' is not defined"
     ]
    }
   ],
   "source": "import matplotlib.pyplot as plt\nimport matplotlib.dates as mdates\n%matplotlib qt\n\nfontsize=12\nfig, axs = plt.subplots(nrows=3, sharex=True)\n\ndf_pose_1['x'].plot(ax=axs[0])\ndf_pose_2['x'].plot(ax=axs[0])\naxs[0].set_xlabel('Timestamp', fontsize=fontsize)\naxs[0].set_ylabel('Position [m]', fontsize=fontsize)\naxs[0].legend(['x 1', 'x 2'])\n\ndf_pose_1['y'].plot(ax=axs[1])\ndf_pose_2['y'].plot(ax=axs[1])\naxs[1].set_xlabel('Timestamp', fontsize=fontsize)\naxs[1].set_ylabel('Position [m]', fontsize=fontsize)\naxs[1].legend(['y 1', 'y 2'])\n\ndf_pose_1['z'].plot(ax=axs[2])\ndf_pose_2['z'].plot(ax=axs[2])\naxs[2].set_xlabel('Timestamp', fontsize=fontsize)\naxs[2].set_ylabel('Position [m]', fontsize=fontsize)\naxs[2].legend(['z 1', 'z 2'])\n\n#df_pose_1['roll'].plot(ax=axs[3])\n#df_pose_2['roll'].plot(ax=axs[3])\n#axs[3].set_xlabel('Timestamp', fontsize=fontsize)\n#axs[3].set_ylabel('Angle [deg]', fontsize=fontsize)\n#axs[3].legend(['roll 1', 'roll 2'])\n\n#df_pose_1['pitch'].plot(ax=axs[4])\n#df_pose_2['pitch'].plot(ax=axs[4])\n#axs[4].set_xlabel('Timestamp', fontsize=fontsize)\n#axs[4].set_ylabel('Angle [deg]', fontsize=fontsize)\n#axs[4].legend(['pitch 1', 'pitch 2'])\n\n#df_pose_1['yaw'].plot(ax=axs[5])\n#df_pose_2['yaw'].plot(ax=axs[5])\n#axs[5].set_xlabel('Timestamp', fontsize=fontsize)\n#axs[5].set_ylabel('Angle [deg]', fontsize=fontsize)\n#axs[5].legend(['yaw 1', 'yaw 2'])"
  },
  {
   "cell_type": "code",
   "execution_count": 18,
   "metadata": {},
   "outputs": [
    {
     "data": {
      "text/plain": "<matplotlib.legend.Legend at 0x7fdd17c90090>"
     },
     "execution_count": 18,
     "metadata": {},
     "output_type": "execute_result"
    }
   ],
   "source": "import matplotlib.pyplot as plt\nimport matplotlib.dates as mdates\n%matplotlib qt\n\nfontsize=12\nfig, axs = plt.subplots(nrows=2, sharex=True)\n\ndf_acc_bias_1[['x', 'y', 'z']].plot(ax=axs[0])\n#df_acc_bias_2[['x', 'y', 'z']].plot(ax=axs[0], style='k--')\naxs[0].set_xlabel('Timestamp', fontsize=fontsize)\naxs[0].set_ylabel('Accelerometer bias [m/s**2]', fontsize=fontsize)\naxs[0].legend(['x 1', 'y 1', 'z 1', 'x 2', 'y 2', 'z 2'])\n\ndf_gyro_bias_1[['x', 'y', 'z']].plot(ax=axs[1])\ndf_gyro_bias_2[['x', 'y', 'z']].plot(ax=axs[1], style='k--')\naxs[1].set_xlabel('Timestamp', fontsize=fontsize)\naxs[1].set_ylabel('Gyroscope bias [rad/s]', fontsize=fontsize)\naxs[1].legend(['x 1', 'y 1', 'z 1', 'x 2', 'y 2', 'z 2'],  loc='upper right')"
  }
 ],
 "metadata": {
  "kernelspec": {
   "display_name": "Python 2",
   "language": "python",
   "name": "python2"
  },
  "language_info": {
   "codemirror_mode": {
    "name": "ipython",
    "version": 2
   },
   "file_extension": ".py",
   "mimetype": "text/x-python",
   "name": "python",
   "nbconvert_exporter": "python",
   "pygments_lexer": "ipython2",
   "version": "2.7.17"
  }
 },
 "nbformat": 4,
 "nbformat_minor": 4
}
