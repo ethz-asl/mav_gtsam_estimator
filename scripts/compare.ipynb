{
 "cells": [
  {
   "cell_type": "code",
   "execution_count": 16,
   "metadata": {},
   "outputs": [],
   "source": "import rosbag_pandas\nimport pandas as pd\nimport numpy as np\n\nfile_1 = '/home/rik/data/2020_08_05_gannertshofen/estimator_development/sensors_2020-08-05-13-13-56_estimator_2020-08-30-17-48-25_w_baseline.bag'\ndf_1 = rosbag_pandas.bag_to_dataframe(file)"
  },
  {
   "cell_type": "code",
   "execution_count": 26,
   "metadata": {},
   "outputs": [],
   "source": "file_2 = '/home/rik/data/2020_08_05_gannertshofen/estimator_development/sensors_2020-08-05-13-13-56_estimator_2020-08-30-18-30-26_wo_baseline.bag'\ndf_2 = rosbag_pandas.bag_to_dataframe(file_2)"
  },
  {
   "cell_type": "code",
   "execution_count": 27,
   "metadata": {},
   "outputs": [],
   "source": "import pandas as pd\ndef getPoseTf(df, topic):\n    df_pose = pd.to_datetime(df[topic + '/header/stamp/secs'], unit='s') + pd.to_timedelta(df[topic + '/header/stamp/nsecs'], unit='ns') \n    df_pose = pd.concat([df_pose, df[topic + '/pose/position/x']], axis=1)\n    df_pose = pd.concat([df_pose, df[topic + '/pose/position/y']], axis=1)\n    df_pose = pd.concat([df_pose, df[topic + '/pose/position/z']], axis=1)\n    df_pose = pd.concat([df_pose, df[topic + '/pose/orientation/x']], axis=1)\n    df_pose = pd.concat([df_pose, df[topic + '/pose/orientation/y']], axis=1)\n    df_pose = pd.concat([df_pose, df[topic + '/pose/orientation/z']], axis=1)\n    df_pose = pd.concat([df_pose, df[topic + '/pose/orientation/w']], axis=1)\n    df_pose.reset_index(inplace=True)\n    df_pose.columns = ['t_arrival', 't', 'x', 'y', 'z', 'q_x', 'q_y', 'q_z', 'q_w']\n    df_pose.dropna(inplace=True)\n    df_pose.reset_index(inplace=True)\n    df_pose.drop('t_arrival', axis=1, inplace=True)\n    df_pose.drop('index', axis=1, inplace=True)\n    \n    from scipy.spatial.transform import Rotation as R\n    ypr = df_pose.apply(lambda row: R.from_quat([row.q_x, row.q_y, row.q_z, row.q_w]).as_euler('ZYX', degrees=True), axis=1)\n    ypr = pd.DataFrame(ypr.values.tolist(), columns=['yaw', 'pitch', 'roll'])\n    df_pose = pd.concat([df_pose, ypr], axis=1)\n    df_pose.set_index('t', inplace=True)\n    return df_pose"
  },
  {
   "cell_type": "code",
   "execution_count": 23,
   "metadata": {},
   "outputs": [],
   "source": "def getHeading(df, topic):\n    df_heading = pd.to_datetime(df[topic + '/header/stamp/secs'], unit='s') + pd.to_timedelta(df[topic + '/header/stamp/nsecs'], unit='ns')\n    df_heading = pd.concat([df_heading, df[topic + '/position/position/x']], axis=1)\n    df_heading = pd.concat([df_heading, df[topic + '/position/position/y']], axis=1)\n    df_heading.reset_index(inplace=True)\n    df_heading.columns = ['t_arrival', 't', 'base_x', 'base_y']\n    df_heading.dropna(inplace=True)\n    df_heading.set_index('t', inplace=True)\n    df_heading.drop('t_arrival', axis=1, inplace=True)\n    # Convert NED->ENU\n    import numpy as np\n    x = df_heading['base_y'].values\n    y = df_heading['base_x'].values\n\n    from scipy.spatial.transform import Rotation as R\n    r = R.from_rotvec(np.pi/2 * np.array([0, 0, 1]))\n    vectors = np.array([x, y, np.zeros(len(x))]).transpose()\n    heading_vectors = r.apply(vectors)\n\n    heading = np.arctan2(heading_vectors[:, 1], heading_vectors[:, 0]) * 180.0 / np.pi\n\n    df_heading['rtk heading'] = heading\n    \n    return df_heading"
  },
  {
   "cell_type": "code",
   "execution_count": 33,
   "metadata": {},
   "outputs": [],
   "source": "df_pose_w = getPoseTf(df_1, '/moa/mav_state_estimator/optimization')\ndf_pose_wo = getPoseTf(df_2, '/moa/mav_state_estimator/optimization')\ndf_heading = getHeading(df_1, '/moa/piksi/attitude_receiver_0/ros/baseline_ned')"
  },
  {
   "cell_type": "code",
   "execution_count": 34,
   "metadata": {},
   "outputs": [
    {
     "data": {
      "text/plain": "Text(0,0.5,'Angle [deg]')"
     },
     "execution_count": 34,
     "metadata": {},
     "output_type": "execute_result"
    }
   ],
   "source": "import matplotlib.pyplot as plt\nimport matplotlib.dates as mdates\n%matplotlib qt\n\nfontsize=12\nfig, axs = plt.subplots(nrows=1, sharex=True)\n\ndf_pose_w['yaw'].plot(ax=axs)\ndf_pose_wo['yaw'].plot(ax=axs)\ndf_heading['rtk heading'].plot(style='-', ax=axs)\naxs.legend(['heading w/ baseline', 'heading w/o baseline', 'heading rtk'])\naxs.set_xlabel('Timestamp', fontsize=fontsize)\naxs.set_ylabel('Angle [deg]', fontsize=fontsize)"
  },
  {
   "cell_type": "code",
   "execution_count": null,
   "metadata": {},
   "outputs": [],
   "source": ""
  }
 ],
 "metadata": {
  "kernelspec": {
   "display_name": "Python 2",
   "language": "python",
   "name": "python2"
  },
  "language_info": {
   "codemirror_mode": {
    "name": "ipython",
    "version": 2
   },
   "file_extension": ".py",
   "mimetype": "text/x-python",
   "name": "python",
   "nbconvert_exporter": "python",
   "pygments_lexer": "ipython2",
   "version": "2.7.17"
  }
 },
 "nbformat": 4,
 "nbformat_minor": 4
}
